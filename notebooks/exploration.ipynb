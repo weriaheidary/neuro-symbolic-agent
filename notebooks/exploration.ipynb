{
 "cells": [
  {
   "cell_type": "code",
   "execution_count": null,
   "id": "fb89423c",
   "metadata": {},
   "outputs": [],
   "source": [
    "from neuro_agent.reasoning import GilgameshAgent\n",
    "from neuro_agent.utils import plot_trajectory\n",
    "\n",
    "agent = GilgameshAgent()\n",
    "agent.meet_enkidu()\n",
    "agent.lose_enkidu()\n",
    "agent.seek_immortality()\n",
    "agent.fail_quest()\n",
    "agent.accept_limit()\n",
    "\n",
    "plot_trajectory(agent)\n"
   ]
  }
 ],
 "metadata": {
  "kernelspec": {
   "display_name": "neuro-agent",
   "language": "python",
   "name": "python3"
  },
  "language_info": {
   "codemirror_mode": {
    "name": "ipython",
    "version": 3
   },
   "file_extension": ".py",
   "mimetype": "text/x-python",
   "name": "python",
   "nbconvert_exporter": "python",
   "pygments_lexer": "ipython3",
   "version": "3.11.13"
  }
 },
 "nbformat": 4,
 "nbformat_minor": 5
}
